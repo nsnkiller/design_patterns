{
 "cells": [
  {
   "cell_type": "markdown",
   "metadata": {},
   "source": [
    "# Creational patterns"
   ]
  },
  {
   "cell_type": "markdown",
   "metadata": {},
   "source": [
    "The following are the properties of Creational patterns:\n",
    "* They work on the basis of how objects can be created\n",
    "* They isolate the details of object creation\n",
    "* Code is independent of the type of object to be created"
   ]
  },
  {
   "cell_type": "markdown",
   "metadata": {},
   "source": [
    "An example of a creational pattern is the **Singleton pattern**."
   ]
  },
  {
   "cell_type": "markdown",
   "metadata": {},
   "source": [
    "## Singleton Pattern"
   ]
  },
  {
   "cell_type": "markdown",
   "metadata": {},
   "source": [
    "### Classical Singleton pattern"
   ]
  },
  {
   "cell_type": "code",
   "execution_count": 8,
   "metadata": {},
   "outputs": [
    {
     "name": "stdout",
     "output_type": "stream",
     "text": [
      "Object created <__main__.Singleton object at 0x000001D38F08DDA0>\n",
      "Object created <__main__.Singleton object at 0x000001D38F08DDA0>\n",
      "Object created <__main__.Singleton object at 0x000001D38F08DDA0>\n"
     ]
    }
   ],
   "source": [
    "class Singleton(object):\n",
    "    def __new__(cls, *args, **kwargs):\n",
    "        if not hasattr(cls, 'instance'):\n",
    "            cls.instance = object.__new__(cls, *args, **kwargs)\n",
    "        return cls.instance\n",
    "\n",
    "\n",
    "s = Singleton()\n",
    "print(\"Object created\", s)\n",
    "s1 = Singleton()\n",
    "print(\"Object created\", s1)\n",
    "s2 = Singleton()\n",
    "print(\"Object created\", s2)"
   ]
  },
  {
   "cell_type": "markdown",
   "metadata": {},
   "source": [
    "### Lazy instantiation in Singleton pattern"
   ]
  },
  {
   "cell_type": "code",
   "execution_count": 9,
   "metadata": {},
   "outputs": [
    {
     "name": "stdout",
     "output_type": "stream",
     "text": [
      " __init__ method called..\n",
      " __init__ method called..\n",
      "Object created <__main__.Singleton object at 0x000001D38F677D30>\n",
      "Instance already created: <__main__.Singleton object at 0x000001D38F677D30>\n"
     ]
    }
   ],
   "source": [
    "class Singleton:\n",
    "    __instance = None\n",
    "    def __init__(self):\n",
    "        if not Singleton.__instance:\n",
    "            print(\" __init__ method called..\")\n",
    "        else:\n",
    "            print(\"Instance already created:\", self.getInstance())\n",
    "    @classmethod\n",
    "    def getInstance(cls):\n",
    "        if not cls.__instance:\n",
    "            cls.__instance = Singleton()\n",
    "        return cls.__instance\n",
    "\n",
    "\n",
    "s = Singleton() ## class initialized, but object not created\n",
    "print(\"Object created\", Singleton.getInstance()) # Object gets created here\n",
    "s1 = Singleton() ## instance already created"
   ]
  },
  {
   "cell_type": "markdown",
   "metadata": {},
   "source": [
    "### The Monostate Singleton pattern"
   ]
  },
  {
   "cell_type": "code",
   "execution_count": 10,
   "metadata": {},
   "outputs": [
    {
     "name": "stdout",
     "output_type": "stream",
     "text": [
      "Borg Object 'b':  <__main__.Borg object at 0x000001D38F835CC0>\n",
      "Borg Object 'b1':  <__main__.Borg object at 0x000001D38F8355C0>\n",
      "Object State 'b': {'1': '2', 'x': 4}\n",
      "Object State 'b1': {'1': '2', 'x': 4}\n"
     ]
    }
   ],
   "source": [
    "class Borg:\n",
    "    __shared_state = {\"1\":\"2\"}\n",
    "    def __init__(self):\n",
    "        self.x = 1\n",
    "        self.__dict__ = self.__shared_state\n",
    "        pass\n",
    "\n",
    "b = Borg()\n",
    "b1 = Borg()\n",
    "b.x = 4\n",
    "\n",
    "print(\"Borg Object 'b': \", b)       ## b and b1 are distinct objects\n",
    "print(\"Borg Object 'b1': \", b1)\n",
    "print(\"Object State 'b':\", b.__dict__)       ## b and b1 share same state\n",
    "print(\"Object State 'b1':\", b1.__dict__)"
   ]
  },
  {
   "cell_type": "code",
   "execution_count": 20,
   "metadata": {},
   "outputs": [
    {
     "name": "stdout",
     "output_type": "stream",
     "text": [
      "Borg Object 'b':  <__main__.Borg object at 0x000001D38F2DA8D0>\n",
      "Borg Object 'b1':  <__main__.Borg object at 0x000001D38F2DA4E0>\n",
      "Object State 'b': {'x': 4}\n",
      "Object State 'b1': {'x': 4}\n",
      "Object State 'b': {'x': 5, 'y': 6}\n",
      "Object State 'b1': {'x': 5, 'y': 6}\n",
      "2008149571336\n",
      "2008149571336\n"
     ]
    }
   ],
   "source": [
    "class Borg(object):\n",
    "    _shared_state = {}\n",
    "    def __new__(cls, *args, **kwargs):\n",
    "        obj = super(Borg, cls).__new__(cls, *args, **kwargs)\n",
    "        obj.__dict__ = cls._shared_state\n",
    "        return obj\n",
    "\n",
    "    \n",
    "b = Borg()\n",
    "b1 = Borg()\n",
    "b.x = 4\n",
    "\n",
    "print(\"Borg Object 'b': \", b)       ## b and b1 are distinct objects\n",
    "print(\"Borg Object 'b1': \", b1)\n",
    "print(\"Object State 'b':\", b.__dict__)       ## b and b1 share same state\n",
    "print(\"Object State 'b1':\", b1.__dict__)\n",
    "\n",
    "b1.x = 5\n",
    "b1.y = 6\n",
    "print(\"Object State 'b':\", b.__dict__)       ## b and b1 share same state\n",
    "print(\"Object State 'b1':\", b1.__dict__)\n",
    "\n",
    "print(id(b1._shared_state))\n",
    "print(id(b._shared_state))"
   ]
  },
  {
   "cell_type": "markdown",
   "metadata": {},
   "source": [
    "### Singletons and metaclasses"
   ]
  },
  {
   "cell_type": "code",
   "execution_count": 21,
   "metadata": {},
   "outputs": [
    {
     "name": "stdout",
     "output_type": "stream",
     "text": [
      "<__main__.Logger object at 0x000001D38F2DA2B0> <__main__.Logger object at 0x000001D38F2DA2B0>\n"
     ]
    }
   ],
   "source": [
    "class MetaSingleton(type):\n",
    "    _instances = {}\n",
    "    def __call__(cls, *args, **kwargs):\n",
    "        if cls not in cls._instances:\n",
    "            cls._instances[cls] = super(MetaSingleton, \\\n",
    "            cls).__call__(*args, **kwargs)\n",
    "        return cls._instances[cls]\n",
    "class Logger(metaclass=MetaSingleton):\n",
    "    pass\n",
    "\n",
    "logger1 = Logger()\n",
    "logger2 = Logger()\n",
    "print(logger1, logger2)"
   ]
  },
  {
   "cell_type": "markdown",
   "metadata": {},
   "source": [
    "### A real-world scenario – the Singleton pattern, part 1"
   ]
  },
  {
   "cell_type": "markdown",
   "metadata": {},
   "source": [
    "Consider an example of a cloud service that involves multiple read and write\n",
    "operations on the database. The complete cloud service is split across multiple services\n",
    "that perform database operations. An action on the UI (web app) internally will call an\n",
    "API, which eventually results in a DB operation.\n",
    "\n",
    "It’s clear that the shared resource across different services is the database itself. So, if we\n",
    "need to design the cloud service better, the following points must be taken care of:\n",
    "* Consistency across operations in the database—one operation shouldn’t result in\n",
    "conflicts with other operations\n",
    "* Memory and CPU utilization should be optimal for the handling of multiple\n",
    "operations on the databasem"
   ]
  },
  {
   "cell_type": "code",
   "execution_count": 27,
   "metadata": {},
   "outputs": [
    {
     "name": "stdout",
     "output_type": "stream",
     "text": [
      "Database Objects DB1 <sqlite3.Cursor object at 0x000001D38FE57490>\n",
      "Database Objects DB2 <sqlite3.Cursor object at 0x000001D38FE57490>\n"
     ]
    }
   ],
   "source": [
    "import sqlite3\n",
    "\n",
    "class MetaSingleton(type):\n",
    "    _instances = {}\n",
    "    def __call__(cls, *args, **kwargs):\n",
    "        if cls not in cls._instances:\n",
    "            cls._instances[cls] = super(MetaSingleton, \\\n",
    "            cls).__call__(*args, **kwargs)\n",
    "        return cls._instances[cls]\n",
    "\n",
    "\n",
    "class Database(metaclass=MetaSingleton):\n",
    "    connection = None\n",
    "    def connect(self):\n",
    "        if self.connection is None:\n",
    "            self.connection = sqlite3.connect(\"db.sqlite3\")\n",
    "            self.cursorobj = self.connection.cursor()\n",
    "        return self.cursorobj\n",
    "\n",
    "\n",
    "db1 = Database().connect()\n",
    "db2 = Database().connect()\n",
    "print (\"Database Objects DB1\", db1)\n",
    "print (\"Database Objects DB2\", db2)"
   ]
  },
  {
   "cell_type": "code",
   "execution_count": 28,
   "metadata": {},
   "outputs": [
    {
     "name": "stdout",
     "output_type": "stream",
     "text": [
      "Database Objects DB3 <__main__.Database object at 0x000001D38F4D7710>\n",
      "<sqlite3.Cursor object at 0x000001D38FE57490>\n"
     ]
    }
   ],
   "source": [
    "db3 = Database()\n",
    "print (\"Database Objects DB3\", db3)\n",
    "print(db3.connect())"
   ]
  },
  {
   "cell_type": "markdown",
   "metadata": {},
   "source": [
    "通过阅读上面的代码，我们会发现以下几点。\n",
    "\n",
    "* 1． 我们以MetaSingleton为名创建了一个元类。就像在上一节中解释的那样，Python的特殊方法\\__call__可以通过元类创建单例。\n",
    "* 2． 数据库类由MetaSingleton类装饰后，其行为就会表现为单例。因此，当数据库类被实例化时，它只创建一个对象。\n",
    "* 3． 当Web应用程序对数据库执行某些操作时，它会多次实例化数据库类，但只创建一个对象。因为只有一个对象，所以对数据库的调用是同步的。此外，这样还能够节约系统资源，并且可以避免消耗过多的内存或CPU资源。"
   ]
  },
  {
   "cell_type": "markdown",
   "metadata": {},
   "source": [
    "### A real-world scenario – the Singleton pattern, part 2"
   ]
  },
  {
   "cell_type": "code",
   "execution_count": 32,
   "metadata": {},
   "outputs": [
    {
     "name": "stdout",
     "output_type": "stream",
     "text": [
      "Schedule health check for servers (1)..\n",
      "Checking  Server 1\n",
      "Checking  Server 2\n",
      "Checking  Server 3\n",
      "Checking  Server 4\n",
      "Schedule health check for servers (2)..\n",
      "Checking  Server 1\n",
      "Checking  Server 2\n",
      "Checking  Server 3\n",
      "Checking  Server 5\n"
     ]
    }
   ],
   "source": [
    "class HealthCheck:\n",
    "    _instance = None\n",
    "    \n",
    "    def __new__(cls, *args, **kwargs):\n",
    "        if not HealthCheck._instance:\n",
    "            HealthCheck._instance = super(HealthCheck, \\\n",
    "            cls).__new__(cls, *args, **kwargs)\n",
    "        return HealthCheck._instance\n",
    "    \n",
    "    def __init__(self):\n",
    "        self._servers = []\n",
    "        \n",
    "    def addServer(self):\n",
    "        self._servers.append(\"Server 1\")\n",
    "        self._servers.append(\"Server 2\")\n",
    "        self._servers.append(\"Server 3\")\n",
    "        self._servers.append(\"Server 4\")\n",
    "        \n",
    "    def changeServer(self):\n",
    "        self._servers.pop()\n",
    "        self._servers.append(\"Server 5\")\n",
    "\n",
    "\n",
    "hc1 = HealthCheck()\n",
    "hc2 = HealthCheck()\n",
    "\n",
    "hc1.addServer()\n",
    "print(\"Schedule health check for servers (1)..\")\n",
    "for i in range(4):\n",
    "    print(\"Checking \", hc1._servers[i])\n",
    "\n",
    "hc2.changeServer()\n",
    "print(\"Schedule health check for servers (2)..\")\n",
    "for i in range(4):\n",
    "    print(\"Checking \", hc2._servers[i])"
   ]
  },
  {
   "cell_type": "markdown",
   "metadata": {},
   "source": [
    "Here are a few points that we should remember about Singletons:\n",
    "    \n",
    "* There are many real-world applications where we need to create only one object,\n",
    "such as thread pools, caches, dialog boxes, registry settings, and so on. If we create\n",
    "multiple instances for each of these applications, it will result in the overuse of\n",
    "resources. Singletons work very well in such situations.\n",
    "* Singleton; a time-tested and proven method of presenting a global point of access\n",
    "without many downsides.\n",
    "* Of course, there are a few downsides; Singletons can have an inadvertent impact\n",
    "working with global variables or instantiating classes that are resource-intensive but\n",
    "end up not utilizing them."
   ]
  },
  {
   "cell_type": "markdown",
   "metadata": {},
   "source": [
    "## The Factory Pattern"
   ]
  },
  {
   "cell_type": "markdown",
   "metadata": {},
   "source": [
    "There are three variants of the Factory pattern:\n",
    "* Simple Factory pattern: This allows interfaces to create objects without exposing\n",
    "the object creation logic.\n",
    "* Factory method pattern: This allows interfaces to create objects, but defers the\n",
    "decision to the subclasses to determine the class for object creation.\n",
    "* Abstract Factory pattern: An Abstract Factory is an interface to create related\n",
    "objects without specifying/exposing their classes. The pattern provides objects of\n",
    "another factory, which internally creates other objects."
   ]
  },
  {
   "cell_type": "markdown",
   "metadata": {},
   "source": [
    "### The Simple Factory pattern"
   ]
  },
  {
   "cell_type": "markdown",
   "metadata": {},
   "source": [
    "<img src=\"simple_factory.png\" />"
   ]
  },
  {
   "cell_type": "code",
   "execution_count": 34,
   "metadata": {},
   "outputs": [
    {
     "name": "stdout",
     "output_type": "stream",
     "text": [
      "Which animal should make_sound Dog or Cat?Dog\n",
      "Bhow Bhow!!\n"
     ]
    }
   ],
   "source": [
    "from abc import ABCMeta, abstractmethod\n",
    "\n",
    "class Animal(metaclass = ABCMeta):\n",
    "    @abstractmethod\n",
    "    def do_say(self):\n",
    "        pass\n",
    "    \n",
    "class Dog(Animal):\n",
    "    def do_say(self):\n",
    "        print(\"Bhow Bhow!!\")\n",
    "        \n",
    "class Cat(Animal):\n",
    "    def do_say(self):\n",
    "        print(\"Meow Meow!!\")\n",
    "\n",
    "\n",
    "## forest factory defined\n",
    "class ForestFactory(object):\n",
    "    def make_sound(self, object_type):\n",
    "        return eval(object_type)().do_say()\n",
    "\n",
    "    \n",
    "## client code\n",
    "if __name__ == '__main__':\n",
    "    ff = ForestFactory()\n",
    "    animal = input(\"Which animal should make_sound Dog or Cat?\")\n",
    "    ff.make_sound(animal)"
   ]
  },
  {
   "cell_type": "markdown",
   "metadata": {},
   "source": [
    "### The Factory Method"
   ]
  },
  {
   "cell_type": "markdown",
   "metadata": {},
   "source": [
    "<img src=\"factory.png\" />"
   ]
  },
  {
   "cell_type": "code",
   "execution_count": 5,
   "metadata": {},
   "outputs": [
    {
     "name": "stdout",
     "output_type": "stream",
     "text": [
      "Which Profile you'd like to create? [LinkedIn or FaceBook]linkedin\n",
      "Creating Profile.. linkedin\n",
      "Profile has sections -- [<__main__.PersonalSection object at 0x000001E9DF095240>, <__main__.PatentSection object at 0x000001E9DF3B48D0>, <__main__.PublicationSection object at 0x000001E9DF3B46A0>]\n"
     ]
    }
   ],
   "source": [
    "from abc import ABCMeta, abstractmethod\n",
    "\n",
    "class Section(metaclass=ABCMeta):\n",
    "    @abstractmethod\n",
    "    def describe(self):\n",
    "        pass\n",
    "\n",
    "class PersonalSection(Section):\n",
    "    def describe(self):\n",
    "        print(\"Personal Section\")\n",
    "    \n",
    "class AlbumSection(Section):\n",
    "    def describe(self):\n",
    "        print(\"Album Section\")\n",
    "        \n",
    "class PatentSection(Section):\n",
    "    def describe(self):\n",
    "        print(\"Patent Section\")\n",
    "        \n",
    "class PublicationSection(Section):\n",
    "    def describe(self):\n",
    "        print(\"Publication Section\")\n",
    "        \n",
    "        \n",
    "class Profile(metaclass=ABCMeta):\n",
    "    def __init__(self):\n",
    "        self.sections = []\n",
    "        self.createProfile()\n",
    "        \n",
    "    @abstractmethod\n",
    "    def createProfile(self):\n",
    "        pass\n",
    "    \n",
    "    def getSections(self):\n",
    "        return self.sections\n",
    "    \n",
    "    def addSections(self, section):\n",
    "        self.sections.append(section)\n",
    "\n",
    "\n",
    "class linkedin(Profile):\n",
    "    def createProfile(self):\n",
    "        self.addSections(PersonalSection())\n",
    "        self.addSections(PatentSection())\n",
    "        self.addSections(PublicationSection())\n",
    "\n",
    "\n",
    "class facebook(Profile):\n",
    "    def createProfile(self):\n",
    "        self.addSections(PersonalSection())\n",
    "        self.addSections(AlbumSection())\n",
    "        \n",
    "\n",
    "if __name__ == '__main__':\n",
    "    profile_type = input(\"Which Profile you'd like to create? [LinkedIn or FaceBook]\")\n",
    "    profile = eval(profile_type.lower())()\n",
    "    print(\"Creating Profile..\", type(profile).__name__)\n",
    "    print(\"Profile has sections --\", profile.getSections())"
   ]
  },
  {
   "cell_type": "markdown",
   "metadata": {},
   "source": [
    "# Structural patterns"
   ]
  },
  {
   "cell_type": "markdown",
   "metadata": {},
   "source": [
    "The following are the properties of Structural patterns:\n",
    "* They design the structure of objects and classes so that they can compose to achieve\n",
    "larger results\n",
    "* The focus is on simplifying the structure and identifying the relationship between\n",
    "classes and objects\n",
    "* They focus on class inheritance and composition"
   ]
  },
  {
   "cell_type": "markdown",
   "metadata": {},
   "source": [
    "An example of a behavior pattern is the **Adapter pattern**."
   ]
  },
  {
   "cell_type": "markdown",
   "metadata": {},
   "source": [
    "# Behavioral patterns"
   ]
  },
  {
   "cell_type": "markdown",
   "metadata": {},
   "source": [
    "The following are the properties of Behavioral patterns:\n",
    "* They are concerned with the interaction among objects and responsibility of objects\n",
    "* Objects should be able to interact and still be loosely coupled\n",
    "\n",
    "An example of a behavioral pattern is the **Observer pattern**."
   ]
  },
  {
   "cell_type": "code",
   "execution_count": null,
   "metadata": {},
   "outputs": [],
   "source": []
  }
 ],
 "metadata": {
  "kernelspec": {
   "display_name": "Python 3",
   "language": "python",
   "name": "python3"
  },
  "language_info": {
   "codemirror_mode": {
    "name": "ipython",
    "version": 3
   },
   "file_extension": ".py",
   "mimetype": "text/x-python",
   "name": "python",
   "nbconvert_exporter": "python",
   "pygments_lexer": "ipython3",
   "version": "3.6.8"
  },
  "toc": {
   "base_numbering": 1,
   "nav_menu": {},
   "number_sections": true,
   "sideBar": true,
   "skip_h1_title": false,
   "title_cell": "Table of Contents",
   "title_sidebar": "Contents",
   "toc_cell": false,
   "toc_position": {},
   "toc_section_display": true,
   "toc_window_display": true
  }
 },
 "nbformat": 4,
 "nbformat_minor": 4
}
